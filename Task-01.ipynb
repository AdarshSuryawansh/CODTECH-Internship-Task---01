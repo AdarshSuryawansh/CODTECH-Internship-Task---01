{
 "cells": [
  {
   "cell_type": "markdown",
   "id": "4ad44b28-a205-472a-991f-b7c2379bcb1d",
   "metadata": {},
   "source": [
    "# Internship Task - 01: Big Data Analysis with PySpark"
   ]
  },
  {
   "cell_type": "code",
   "execution_count": 2,
   "id": "4ab443fd-f5ee-43fe-a3bd-f74f206bed45",
   "metadata": {},
   "outputs": [
    {
     "name": "stdout",
     "output_type": "stream",
     "text": [
      "Requirement already satisfied: pyspark in c:\\users\\admin\\anaconda3\\lib\\site-packages (3.5.5)\n",
      "Requirement already satisfied: py4j==0.10.9.7 in c:\\users\\admin\\anaconda3\\lib\\site-packages (from pyspark) (0.10.9.7)\n",
      "Note: you may need to restart the kernel to use updated packages.\n"
     ]
    }
   ],
   "source": [
    "pip install pyspark"
   ]
  },
  {
   "cell_type": "code",
   "execution_count": 3,
   "id": "5549b833-2f94-45fc-8ed8-969035d905ef",
   "metadata": {},
   "outputs": [],
   "source": [
    "from pyspark.sql import SparkSession\n",
    "\n",
    "spark = SparkSession.builder \\\n",
    "    .appName(\"NYC Taxi Data Analysis\") \\\n",
    "    .getOrCreate()\n"
   ]
  },
  {
   "cell_type": "markdown",
   "id": "c614a995-ef85-494f-8440-307fd62025ff",
   "metadata": {},
   "source": [
    "# Load Large Dataset"
   ]
  },
  {
   "cell_type": "code",
   "execution_count": 4,
   "id": "9f2b5630-737f-43c6-9d72-1191b0befd26",
   "metadata": {},
   "outputs": [],
   "source": [
    "df = spark.read.csv(\"yellow_tripdata_2015-01.csv\", header=True, inferSchema=True)"
   ]
  },
  {
   "cell_type": "code",
   "execution_count": 5,
   "id": "33bb89cd-ee02-429d-9a9e-3b8f6f431b55",
   "metadata": {},
   "outputs": [
    {
     "name": "stdout",
     "output_type": "stream",
     "text": [
      "+--------+--------------------+---------------------+---------------+-------------+------------------+------------------+----------+------------------+------------------+------------------+------------+-----------+-----+-------+----------+------------+---------------------+------------+\n",
      "|VendorID|tpep_pickup_datetime|tpep_dropoff_datetime|passenger_count|trip_distance|  pickup_longitude|   pickup_latitude|RateCodeID|store_and_fwd_flag| dropoff_longitude|  dropoff_latitude|payment_type|fare_amount|extra|mta_tax|tip_amount|tolls_amount|improvement_surcharge|total_amount|\n",
      "+--------+--------------------+---------------------+---------------+-------------+------------------+------------------+----------+------------------+------------------+------------------+------------+-----------+-----+-------+----------+------------+---------------------+------------+\n",
      "|       2| 2015-01-15 19:05:39|  2015-01-15 19:23:42|              1|         1.59|  -73.993896484375|  40.7501106262207|         1|                 N|-73.97478485107422| 40.75061798095703|           1|       12.0|  1.0|    0.5|      3.25|         0.0|                  0.3|       17.05|\n",
      "|       1| 2015-01-10 20:33:38|  2015-01-10 20:53:28|              1|          3.3|-74.00164794921875|  40.7242431640625|         1|                 N|-73.99441528320312| 40.75910949707031|           1|       14.5|  0.5|    0.5|       2.0|         0.0|                  0.3|        17.8|\n",
      "|       1| 2015-01-10 20:33:38|  2015-01-10 20:43:41|              1|          1.8|-73.96334075927734| 40.80278778076172|         1|                 N|-73.95182037353516| 40.82441329956055|           2|        9.5|  0.5|    0.5|       0.0|         0.0|                  0.3|        10.8|\n",
      "|       1| 2015-01-10 20:33:39|  2015-01-10 20:35:31|              1|          0.5|-74.00908660888672| 40.71381759643555|         1|                 N|-74.00432586669922| 40.71998596191406|           2|        3.5|  0.5|    0.5|       0.0|         0.0|                  0.3|         4.8|\n",
      "|       1| 2015-01-10 20:33:39|  2015-01-10 20:52:58|              1|          3.0|-73.97117614746094|40.762428283691406|         1|                 N|-74.00418090820312|40.742652893066406|           2|       15.0|  0.5|    0.5|       0.0|         0.0|                  0.3|        16.3|\n",
      "+--------+--------------------+---------------------+---------------+-------------+------------------+------------------+----------+------------------+------------------+------------------+------------+-----------+-----+-------+----------+------------+---------------------+------------+\n",
      "only showing top 5 rows\n",
      "\n",
      "root\n",
      " |-- VendorID: integer (nullable = true)\n",
      " |-- tpep_pickup_datetime: timestamp (nullable = true)\n",
      " |-- tpep_dropoff_datetime: timestamp (nullable = true)\n",
      " |-- passenger_count: integer (nullable = true)\n",
      " |-- trip_distance: double (nullable = true)\n",
      " |-- pickup_longitude: double (nullable = true)\n",
      " |-- pickup_latitude: double (nullable = true)\n",
      " |-- RateCodeID: integer (nullable = true)\n",
      " |-- store_and_fwd_flag: string (nullable = true)\n",
      " |-- dropoff_longitude: double (nullable = true)\n",
      " |-- dropoff_latitude: double (nullable = true)\n",
      " |-- payment_type: integer (nullable = true)\n",
      " |-- fare_amount: double (nullable = true)\n",
      " |-- extra: double (nullable = true)\n",
      " |-- mta_tax: double (nullable = true)\n",
      " |-- tip_amount: double (nullable = true)\n",
      " |-- tolls_amount: double (nullable = true)\n",
      " |-- improvement_surcharge: double (nullable = true)\n",
      " |-- total_amount: double (nullable = true)\n",
      "\n"
     ]
    }
   ],
   "source": [
    "df.show(5)\n",
    "df.printSchema()"
   ]
  },
  {
   "cell_type": "markdown",
   "id": "2ca1aa89-3ce6-438b-8f4f-7021b0289b64",
   "metadata": {},
   "source": [
    "# Perform Scalable Analysis"
   ]
  },
  {
   "cell_type": "markdown",
   "id": "fc18f00e-2bb8-4b75-b00f-7b2a517315f8",
   "metadata": {},
   "source": [
    "## 1.Total Number of Trips"
   ]
  },
  {
   "cell_type": "code",
   "execution_count": 6,
   "id": "4f6d0b1e-077e-4c2a-87a3-0b56e20eea19",
   "metadata": {},
   "outputs": [
    {
     "name": "stdout",
     "output_type": "stream",
     "text": [
      "Total Trips: 12748986\n"
     ]
    }
   ],
   "source": [
    "total_trips = df.count()\n",
    "print(f\"Total Trips: {total_trips}\")"
   ]
  },
  {
   "cell_type": "markdown",
   "id": "ede615b5-73b3-4757-b700-994c10539933",
   "metadata": {},
   "source": [
    "## 2.Average Trip Duration"
   ]
  },
  {
   "cell_type": "code",
   "execution_count": 7,
   "id": "a194d102-b9c5-4771-877f-001c92354815",
   "metadata": {},
   "outputs": [
    {
     "name": "stdout",
     "output_type": "stream",
     "text": [
      "Average Trip Duration: 14.18 minutes\n"
     ]
    }
   ],
   "source": [
    "from pyspark.sql.functions import unix_timestamp, col\n",
    "\n",
    "df = df.withColumn(\"trip_duration\",(unix_timestamp(\"tpep_dropoff_datetime\") - unix_timestamp(\"tpep_pickup_datetime\")) / 60)\n",
    "\n",
    "avg_duration = df.selectExpr(\"avg(trip_duration)\").first()[0]\n",
    "print(f\"Average Trip Duration: {avg_duration:.2f} minutes\")"
   ]
  },
  {
   "cell_type": "markdown",
   "id": "21fbe215-1379-43e8-b66c-afe0544c4d33",
   "metadata": {},
   "source": [
    "## 3.Average Fare Amount per Passenger Count"
   ]
  },
  {
   "cell_type": "code",
   "execution_count": 8,
   "id": "3690c537-dfea-4721-bd0e-d482ea534ddd",
   "metadata": {},
   "outputs": [
    {
     "name": "stdout",
     "output_type": "stream",
     "text": [
      "+---------------+------------------+\n",
      "|passenger_count|  avg(fare_amount)|\n",
      "+---------------+------------------+\n",
      "|              0|11.205294744859103|\n",
      "|              1| 11.78195472471847|\n",
      "|              2|12.420621907710354|\n",
      "|              3|12.124618192345713|\n",
      "|              4|12.202182618035936|\n",
      "|              5|11.963545757512774|\n",
      "|              6|11.797696494253884|\n",
      "|              7|11.255555555555555|\n",
      "|              8|29.580000000000002|\n",
      "|              9|52.900000000000006|\n",
      "+---------------+------------------+\n",
      "\n"
     ]
    }
   ],
   "source": [
    "df.groupBy(\"passenger_count\")\\\n",
    "  .avg(\"fare_amount\") \\\n",
    "  .orderBy(\"passenger_count\") \\\n",
    "  .show() \n"
   ]
  },
  {
   "cell_type": "markdown",
   "id": "2b94fb4a-7a16-4aa0-840b-a1dfb0db4c6c",
   "metadata": {},
   "source": [
    "## 4.Busiest Hour of the Day"
   ]
  },
  {
   "cell_type": "code",
   "execution_count": 11,
   "id": "952c181a-fda5-4d25-8bf8-b19197dc9993",
   "metadata": {},
   "outputs": [
    {
     "name": "stdout",
     "output_type": "stream",
     "text": [
      "+-----------+------+\n",
      "|pickup_hour| count|\n",
      "+-----------+------+\n",
      "|         19|805230|\n",
      "|         18|799587|\n",
      "|         20|733952|\n",
      "|         21|711579|\n",
      "|         22|686959|\n",
      "+-----------+------+\n",
      "only showing top 5 rows\n",
      "\n"
     ]
    }
   ],
   "source": [
    "from pyspark.sql.functions import hour\n",
    "\n",
    "df = df.withColumn(\"pickup_hour\", hour(\"tpep_pickup_datetime\"))\n",
    "\n",
    "df.groupBy(\"pickup_hour\") \\\n",
    "  .count() \\\n",
    "  .orderBy(col(\"count\").desc()) \\\n",
    "  .show(5)\n"
   ]
  },
  {
   "cell_type": "markdown",
   "id": "2d91f26b-809d-40ea-b0a2-c3753f5f46ef",
   "metadata": {},
   "source": [
    "## Stop Spark Session"
   ]
  },
  {
   "cell_type": "code",
   "execution_count": 12,
   "id": "1f8266b8-0899-48ba-b136-662f6836265c",
   "metadata": {},
   "outputs": [],
   "source": [
    "spark.stop()"
   ]
  },
  {
   "cell_type": "markdown",
   "id": "f5cae3f6-9b5e-434d-b06a-5d6a96e51c5e",
   "metadata": {},
   "source": [
    "# Step 5: Key Insights\n",
    "\n",
    "## The dataset has millions of taxi trips in a single month.\n",
    "\n",
    "## Average trip duration is about X minutes.\n",
    "\n",
    "## Most popular pickup zones are IDs 236, 142, etc.\n",
    "\n",
    "## The busiest hour is typically around 6 PM.\n",
    "\n",
    "## Trips with 2 passengers have the highest average fare."
   ]
  },
  {
   "cell_type": "code",
   "execution_count": null,
   "id": "c09e18cf-39fe-411a-9ea2-45233b045203",
   "metadata": {},
   "outputs": [],
   "source": []
  }
 ],
 "metadata": {
  "kernelspec": {
   "display_name": "Python 3 (ipykernel)",
   "language": "python",
   "name": "python3"
  },
  "language_info": {
   "codemirror_mode": {
    "name": "ipython",
    "version": 3
   },
   "file_extension": ".py",
   "mimetype": "text/x-python",
   "name": "python",
   "nbconvert_exporter": "python",
   "pygments_lexer": "ipython3",
   "version": "3.12.4"
  }
 },
 "nbformat": 4,
 "nbformat_minor": 5
}
